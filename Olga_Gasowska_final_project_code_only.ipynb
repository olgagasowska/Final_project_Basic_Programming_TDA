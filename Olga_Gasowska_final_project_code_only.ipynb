{
  "nbformat": 4,
  "nbformat_minor": 0,
  "metadata": {
    "colab": {
      "provenance": [],
      "gpuType": "T4"
    },
    "kernelspec": {
      "name": "python3",
      "display_name": "Python 3"
    },
    "language_info": {
      "name": "python"
    },
    "accelerator": "GPU"
  },
  "cells": [
    {
      "cell_type": "code",
      "execution_count": null,
      "metadata": {
        "id": "FvG2kJM_Yc9d"
      },
      "outputs": [],
      "source": [
        "file_path = \"/content/dane1.csv\""
      ]
    },
    {
      "cell_type": "code",
      "source": [
        "import pandas as pd\n",
        "MAIN_DATA = pd.read_csv(file_path)"
      ],
      "metadata": {
        "id": "B2mjHBKObX_r"
      },
      "execution_count": null,
      "outputs": []
    },
    {
      "cell_type": "code",
      "source": [
        "info = MAIN_DATA.info()"
      ],
      "metadata": {
        "id": "loXNMQbdbiOs"
      },
      "execution_count": null,
      "outputs": []
    },
    {
      "cell_type": "code",
      "source": [
        "df = MAIN_DATA.copy()"
      ],
      "metadata": {
        "id": "zY5ZteuTF5Ao"
      },
      "execution_count": null,
      "outputs": []
    },
    {
      "cell_type": "code",
      "source": [
        "!python -m spacy download pl_core_news_sm"
      ],
      "metadata": {
        "id": "avoxj5aRciTE"
      },
      "execution_count": null,
      "outputs": []
    },
    {
      "cell_type": "code",
      "source": [
        "import pandas as pd\n",
        "import spacy\n",
        "\n",
        "nlp = spacy.load(\"pl_core_news_sm\")\n",
        "data1 = \"/content/dane1.csv\"\n",
        "nlp.max_length = 4000000\n",
        "\n",
        "with open (data1, \"r\", encoding = \"utf-8\") as file:\n",
        "  text_data1= file.read()\n",
        "  doc_data1 = nlp(text_data1)"
      ],
      "metadata": {
        "id": "CRvyrM8uL-fS"
      },
      "execution_count": null,
      "outputs": []
    },
    {
      "cell_type": "code",
      "source": [
        "# Replace abbreviated weekday names with english equivalents (full weekday names) - created_at column\n"
      ],
      "metadata": {
        "id": "EJrKnPXIbnPv"
      },
      "execution_count": null,
      "outputs": []
    },
    {
      "cell_type": "code",
      "source": [
        "df[\"created_at\"] = df['created_at'] = (\n",
        "    df['created_at']\n",
        "    .str.replace('Mon', 'Monday')\n",
        "    .str.replace('Tue', 'Tuesday')\n",
        "    .str.replace('Wed', 'Wednesday')\n",
        "    .str.replace('Thu', 'Thursday')\n",
        "    .str.replace('Fri', 'Friday')\n",
        "    .str.replace('Sat', 'Saturday')\n",
        "    .str.replace('Sun', 'Sunday')\n",
        ")"
      ],
      "metadata": {
        "id": "cxKRz5x-Jb_G"
      },
      "execution_count": null,
      "outputs": []
    },
    {
      "cell_type": "code",
      "source": [
        "print(df['created_at'])"
      ],
      "metadata": {
        "id": "5vCHJpAebm82"
      },
      "execution_count": null,
      "outputs": []
    },
    {
      "cell_type": "code",
      "source": [
        "# Replace abbreviated month names with numerical equivalents (e.g. Jun to 06) - user_created_at column"
      ],
      "metadata": {
        "id": "412D5v05iT0X"
      },
      "execution_count": null,
      "outputs": []
    },
    {
      "cell_type": "code",
      "source": [
        "df[\"user_created_at\"].head()"
      ],
      "metadata": {
        "id": "LwoSXhhGKLdS"
      },
      "execution_count": null,
      "outputs": []
    },
    {
      "cell_type": "code",
      "source": [
        "months = [(\"Jan\", \"01\"), (\"Feb\", \"02\"), (\"Mar\", \"03\"), (\"Apr\", \"04\"),\n",
        "          (\"May\", \"05\"), (\"Jun\", \"06\"), (\"Jul\", \"07\"), (\"Aug\", \"08\"),\n",
        "          (\"Sep\", \"09\"), (\"Oct\", \"10\"), (\"Nov\", \"11\"), (\"Dec\", \"12\")]\n",
        "\n",
        "for old, new in months:\n",
        "    df[\"user_created_at\"] = df[\"user_created_at\"].str.replace(old, new)\n"
      ],
      "metadata": {
        "id": "ZARe1T8Wl0db"
      },
      "execution_count": null,
      "outputs": []
    },
    {
      "cell_type": "code",
      "source": [
        "df[\"user_created_at\"].head()"
      ],
      "metadata": {
        "id": "ZVVZjnfDknoG"
      },
      "execution_count": null,
      "outputs": []
    },
    {
      "cell_type": "code",
      "source": [
        "# Get all links to tweets and pass them to the list"
      ],
      "metadata": {
        "id": "_7XHhg00oJKI"
      },
      "execution_count": null,
      "outputs": []
    },
    {
      "cell_type": "code",
      "source": [
        "tweet_links = [df[\"tweet_url\"].dropna().tolist()]"
      ],
      "metadata": {
        "id": "9igvAKjWuUb4"
      },
      "execution_count": null,
      "outputs": []
    },
    {
      "cell_type": "code",
      "source": [
        "tweet_links"
      ],
      "metadata": {
        "id": "OvHrADh8wJLd"
      },
      "execution_count": null,
      "outputs": []
    },
    {
      "cell_type": "code",
      "source": [
        "# Get all links found in tweets and pass them to the list (urls column)\n",
        "inside_tweet_links = df[\"urls\"].dropna().tolist()"
      ],
      "metadata": {
        "id": "k87O21mSq9AG"
      },
      "execution_count": null,
      "outputs": []
    },
    {
      "cell_type": "code",
      "source": [
        "inside_tweet_links"
      ],
      "metadata": {
        "id": "g76J5NCurIpV"
      },
      "execution_count": null,
      "outputs": []
    },
    {
      "cell_type": "code",
      "source": [
        "# Get all image links and pass them to the list (media column)"
      ],
      "metadata": {
        "id": "MGQm8Oa-LmmT"
      },
      "execution_count": null,
      "outputs": []
    },
    {
      "cell_type": "code",
      "source": [
        "df[\"media\"].head (30)"
      ],
      "metadata": {
        "id": "sD5YwW6UOyr5"
      },
      "execution_count": null,
      "outputs": []
    },
    {
      "cell_type": "code",
      "source": [
        "image_links = df['media'].dropna().tolist()"
      ],
      "metadata": {
        "id": "tV1iskwlO_-L"
      },
      "execution_count": null,
      "outputs": []
    },
    {
      "cell_type": "code",
      "source": [
        "image_links"
      ],
      "metadata": {
        "id": "KP76s1AftW2i"
      },
      "execution_count": null,
      "outputs": []
    },
    {
      "cell_type": "code",
      "source": [
        "# Remove all words marked as stopwords and pass the cleaned text to a new column called text_without_stopwords."
      ],
      "metadata": {
        "id": "5XdvPHZs8G_e"
      },
      "execution_count": null,
      "outputs": []
    },
    {
      "cell_type": "code",
      "source": [
        "df[\"text\"].head(40)"
      ],
      "metadata": {
        "id": "h46aw1sSPUNt"
      },
      "execution_count": null,
      "outputs": []
    },
    {
      "cell_type": "code",
      "source": [
        "for text in df[\"text\"]:\n",
        "    doc = nlp(text)\n",
        "    for token in doc:\n",
        "        print(token.text, token.is_stop)"
      ],
      "metadata": {
        "id": "NsKX695bQlpp"
      },
      "execution_count": null,
      "outputs": []
    },
    {
      "cell_type": "code",
      "source": [
        "df['text_without_stopwords'] = \"\"\n",
        "df['text_without_stopwords'] = \"\"\n",
        "def no_stopwords(text):\n",
        "    doc = nlp(text)\n",
        "    return [token.text for token in doc if not token.is_stop]\n",
        "\n",
        "df[\"text_without_stopwords\"] = df[\"text\"].apply(no_stopwords)\n",
        "print(df[\"text_without_stopwords\"].head(3))"
      ],
      "metadata": {
        "id": "VgFQ_PJyRDcd"
      },
      "execution_count": null,
      "outputs": []
    },
    {
      "cell_type": "code",
      "source": [
        "# List the top 5 tweets with the highest number of likes"
      ],
      "metadata": {
        "id": "7BY0HXfoPuQ_"
      },
      "execution_count": null,
      "outputs": []
    },
    {
      "cell_type": "code",
      "source": [
        "top_likes = df.sort_values(by=\"favorite_count\", ascending=False).head(5)\n",
        "\n",
        "for tweet in top_likes[\"text\"]:\n",
        "    print(tweet)"
      ],
      "metadata": {
        "id": "hOTgVT6sR6eV"
      },
      "execution_count": null,
      "outputs": []
    },
    {
      "cell_type": "code",
      "source": [
        "top_likes['favorite_count']"
      ],
      "metadata": {
        "id": "PJUm03_8SQ3V"
      },
      "execution_count": null,
      "outputs": []
    },
    {
      "cell_type": "code",
      "source": [
        "# List the top 5 tweets with the highest number of retweets"
      ],
      "metadata": {
        "id": "7bNmb00DR71J"
      },
      "execution_count": null,
      "outputs": []
    },
    {
      "cell_type": "code",
      "source": [
        "# retweet_count descending, then print 5 tweets"
      ],
      "metadata": {
        "id": "Fu8qpeyUPyGy"
      },
      "execution_count": null,
      "outputs": []
    },
    {
      "cell_type": "code",
      "source": [
        "top_retweet = df.sort_values(by=\"retweet_count\", ascending=False).head(5)\n",
        "\n",
        "for tweet in top_retweet[\"text\"]:\n",
        "    print(tweet)"
      ],
      "metadata": {
        "id": "F-JTKaxH9cDK"
      },
      "execution_count": null,
      "outputs": []
    },
    {
      "cell_type": "code",
      "source": [
        "top_retweet['retweet_count']"
      ],
      "metadata": {
        "id": "bJCKZlzfS9T5"
      },
      "execution_count": null,
      "outputs": []
    },
    {
      "cell_type": "code",
      "source": [
        "# Show only tweets that are not considered 'sensitive' (possibly_sensitive column)."
      ],
      "metadata": {
        "id": "65K9DpAtTDqV"
      },
      "execution_count": null,
      "outputs": []
    },
    {
      "cell_type": "code",
      "source": [
        "df[\"possibly_sensitive\"].value_counts()"
      ],
      "metadata": {
        "id": "hxee8j35TIJk"
      },
      "execution_count": null,
      "outputs": []
    },
    {
      "cell_type": "code",
      "source": [
        "not_sensitive = df[df[\"possibly_sensitive\"] == False]\n",
        "\n",
        "for elem in not_sensitive[\"text\"]:\n",
        "    print(elem)\n"
      ],
      "metadata": {
        "id": "1Vb2LBsUTRfy"
      },
      "execution_count": null,
      "outputs": []
    },
    {
      "cell_type": "code",
      "source": [
        "# Show the tweets of the user who created the account earliest\n",
        "# (of all users in the dataset) (user_created_at column)."
      ],
      "metadata": {
        "id": "hoL85v1BT75T"
      },
      "execution_count": null,
      "outputs": []
    },
    {
      "cell_type": "code",
      "source": [
        "earliest_user = df.sort_values(by=\"user_created_at\", ascending=True).head(1)\n",
        "earliest_user_id = earliest_user[\"user_name\"].iloc[0]\n",
        "tweets_earliest_user = df[df[\"user_name\"] == earliest_user_id]\n",
        "\n",
        "for tweet in tweets_earliest_user[\"text\"]:\n",
        "    print(tweet)"
      ],
      "metadata": {
        "id": "IiqEl0ixVmft"
      },
      "execution_count": null,
      "outputs": []
    },
    {
      "cell_type": "code",
      "source": [
        "# Show the tweets of the user with the most followers."
      ],
      "metadata": {
        "id": "GHw5UNLLWDYW"
      },
      "execution_count": null,
      "outputs": []
    },
    {
      "cell_type": "code",
      "source": [
        "favourite_user = df.sort_values(by=\"user_followers_count\", ascending=True).head(1)\n",
        "favourite_user_id = favourite_user[\"user_name\"].iloc[0]\n",
        "tweets_favourite_user = df[df[\"user_name\"] == favourite_user_id]\n",
        "\n",
        "for tweet in tweets_favourite_user[\"text\"]:\n",
        "    print(tweet)"
      ],
      "metadata": {
        "id": "R-hmBZn70RQ6"
      },
      "execution_count": null,
      "outputs": []
    },
    {
      "cell_type": "code",
      "source": [
        "# Show only verified users (user_verified column)."
      ],
      "metadata": {
        "id": "GDlXzjRV09fi"
      },
      "execution_count": null,
      "outputs": []
    },
    {
      "cell_type": "code",
      "source": [
        "for user in df[df[\"user_verified\"] == True][\"user_name\"]:\n",
        "    print(user)"
      ],
      "metadata": {
        "id": "n4f0cUyU1Srz"
      },
      "execution_count": null,
      "outputs": []
    },
    {
      "cell_type": "code",
      "source": [
        "# Indicate on which day of the week the tweets in the dataset\n",
        "# were most frequently published."
      ],
      "metadata": {
        "id": "KITicZAX1e3m"
      },
      "execution_count": null,
      "outputs": []
    },
    {
      "cell_type": "code",
      "source": [
        "\n",
        "def weekday_count(elem):\n",
        "  if elem.startswith(\"Monday\"):\n",
        "    return \"Monday\"\n",
        "  elif elem.startswith(\"Tuesday\"):\n",
        "    return \"Tuesday\"\n",
        "  elif elem.startswith(\"Wednesday\"):\n",
        "    return \"Wednesday\"\n",
        "  elif elem.startswith(\"Thursday\"):\n",
        "    return \"Thursday\"\n",
        "  elif elem.startswith(\"Friday\"):\n",
        "    return \"Friday\"\n",
        "  elif elem.startswith(\"Saturday\"):\n",
        "    return \"Saturday\"\n",
        "  elif elem.startswith(\"Sunday\"):\n",
        "    return \"sSunday\""
      ],
      "metadata": {
        "id": "X5a3lgbpmpcO"
      },
      "execution_count": null,
      "outputs": []
    },
    {
      "cell_type": "code",
      "source": [
        "df[\"publishing_days\"] = df[\"created_at\"].apply(weekday_count)\n",
        "df[\"publishing_days\"]"
      ],
      "metadata": {
        "id": "TFhaeA2Ocb-r"
      },
      "execution_count": null,
      "outputs": []
    },
    {
      "cell_type": "code",
      "source": [
        "df[\"publishing_days\"] = df[\"created_at\"].apply(weekday_count)\n",
        "day_counts = df[\"publishing_days\"].value_counts()\n",
        "most_frequent = day_counts.idxmax()\n",
        "print (most_frequent)"
      ],
      "metadata": {
        "id": "sDg0-5rCrrTt"
      },
      "execution_count": null,
      "outputs": []
    },
    {
      "cell_type": "code",
      "source": [
        "# Extract people (persName) and add them to a column called persons\n",
        "df['persons'] = \"\"\n",
        "def extract_persons(text):\n",
        "    doc = nlp(text)\n",
        "    return [ent.text for ent in doc.ents if ent.label_ == \"persName\"]\n",
        "\n",
        "df[\"persons\"] = df[\"text\"].apply(extract_persons)\n",
        "print(df[\"persons\"])"
      ],
      "metadata": {
        "id": "mBeSGCWBuamU"
      },
      "execution_count": null,
      "outputs": []
    },
    {
      "cell_type": "code",
      "source": [
        "# Extract organisations (orgName) and place them in the column called organisations\n",
        "df['organisations'] = \"\"\n",
        "def extract_org(text):\n",
        "    doc = nlp(text)\n",
        "    return [ent.text for ent in doc.ents if ent.label_ == \"orgName\"]\n",
        "\n",
        "df[\"organisations\"] = df[\"text\"].apply(extract_org)\n",
        "print(df[\"organisations\"])"
      ],
      "metadata": {
        "id": "raDHemsjvPS7"
      },
      "execution_count": null,
      "outputs": []
    },
    {
      "cell_type": "code",
      "source": [
        "### matplotlib"
      ],
      "metadata": {
        "id": "bQWmfkuJb4LE"
      },
      "execution_count": null,
      "outputs": []
    },
    {
      "cell_type": "code",
      "source": [
        "import matplotlib.pyplot as plt"
      ],
      "metadata": {
        "id": "Lx9vnchGb6i4"
      },
      "execution_count": null,
      "outputs": []
    },
    {
      "cell_type": "code",
      "source": [
        "#  create a graph showing the number of tweets per day of the week\n",
        "\n",
        "# \"publishing days\" per nr of tweets"
      ],
      "metadata": {
        "id": "Wxds4ohob89r"
      },
      "execution_count": null,
      "outputs": []
    },
    {
      "cell_type": "code",
      "source": [
        "tweets_per_day = df[\"publishing_days\"].value_counts()\n",
        "plt.figure(figsize=(8, 5))\n",
        "tweets_per_day.sort_index().plot(kind=\"bar\", color=\"pink\", edgecolor=\"darkblue\")\n",
        "plt.xlabel(\"Day of the Week\")\n",
        "plt.ylabel(\"Number of Tweets\")\n",
        "plt.title(\"Number of Tweets per Day of the Week\")"
      ],
      "metadata": {
        "colab": {
          "base_uri": "https://localhost:8080/",
          "height": 513
        },
        "id": "SB2Rt2v0dXZ3",
        "outputId": "68c516d7-d371-45e0-b4b6-8ec11c19643c"
      },
      "execution_count": null,
      "outputs": [
        {
          "output_type": "execute_result",
          "data": {
            "text/plain": [
              "Text(0.5, 1.0, 'Number of Tweets per Day of the Week')"
            ]
          },
          "metadata": {},
          "execution_count": 37
        },
        {
          "output_type": "display_data",
          "data": {
            "text/plain": [
              "<Figure size 800x500 with 1 Axes>"
            ],
            "image/png": "[encoded data removed]"
          },
          "metadata": {}
        }
      ]
    },
    {
      "cell_type": "code",
      "source": [
        "df.to_csv(\"Olga_Gasowska_dane1.csv\", index=False)"
      ],
      "metadata": {
        "id": "P1T4NxoiPa_W"
      },
      "execution_count": null,
      "outputs": []
    }
  ]
}